{
 "cells": [
  {
   "cell_type": "code",
   "execution_count": 1,
   "metadata": {},
   "outputs": [
    {
     "name": "stdout",
     "output_type": "stream",
     "text": [
      "Collecting spotipy\n",
      "  Downloading spotipy-2.20.0-py3-none-any.whl (27 kB)\n",
      "Requirement already satisfied: six>=1.15.0 in d:\\anaconda\\lib\\site-packages (from spotipy) (1.15.0)\n",
      "Collecting redis>=3.5.3\n",
      "  Downloading redis-4.3.4-py3-none-any.whl (246 kB)\n",
      "     -------------------------------------- 246.2/246.2 kB 7.4 MB/s eta 0:00:00\n",
      "Collecting urllib3>=1.26.0\n",
      "  Using cached urllib3-1.26.11-py2.py3-none-any.whl (139 kB)\n",
      "Collecting requests>=2.25.0\n",
      "  Using cached requests-2.28.1-py3-none-any.whl (62 kB)\n",
      "Requirement already satisfied: packaging>=20.4 in d:\\anaconda\\lib\\site-packages (from redis>=3.5.3->spotipy) (20.4)\n",
      "Collecting deprecated>=1.2.3\n",
      "  Downloading Deprecated-1.2.13-py2.py3-none-any.whl (9.6 kB)\n",
      "Collecting async-timeout>=4.0.2\n",
      "  Downloading async_timeout-4.0.2-py3-none-any.whl (5.8 kB)\n"
     ]
    },
    {
     "name": "stderr",
     "output_type": "stream",
     "text": [
      "WARNING: Ignoring invalid distribution -ip (d:\\anaconda\\lib\\site-packages)\n",
      "WARNING: Ignoring invalid distribution -ip (d:\\anaconda\\lib\\site-packages)\n",
      "WARNING: Ignoring invalid distribution -ip (d:\\anaconda\\lib\\site-packages)\n",
      "    WARNING: Ignoring invalid distribution -ip (d:\\anaconda\\lib\\site-packages)\n",
      "    WARNING: Ignoring invalid distribution -ip (d:\\anaconda\\lib\\site-packages)\n",
      "WARNING: Ignoring invalid distribution -ip (d:\\anaconda\\lib\\site-packages)\n",
      "WARNING: Ignoring invalid distribution -ip (d:\\anaconda\\lib\\site-packages)\n",
      "WARNING: Ignoring invalid distribution -ip (d:\\anaconda\\lib\\site-packages)\n",
      "WARNING: Ignoring invalid distribution -ip (d:\\anaconda\\lib\\site-packages)\n",
      "WARNING: Ignoring invalid distribution -ip (d:\\anaconda\\lib\\site-packages)\n",
      "WARNING: Ignoring invalid distribution -ip (d:\\anaconda\\lib\\site-packages)\n",
      "WARNING: Ignoring invalid distribution -ip (d:\\anaconda\\lib\\site-packages)\n",
      "ERROR: pip's dependency resolver does not currently take into account all the packages that are installed. This behaviour is the source of the following dependency conflicts.\n",
      "conda 4.10.3 requires ruamel_yaml_conda>=0.11.14, which is not installed.\n",
      "conda-repo-cli 1.0.4 requires pathlib, which is not installed.\n",
      "scispacy 0.4.0 requires spacy<3.1.0,>=3.0.0, but you have spacy 3.1.2 which is incompatible.\n",
      "presidio-analyzer 2.2.21 requires pyyaml==5.4.1, but you have pyyaml 6.0 which is incompatible.\n",
      "presidio-analyzer 2.2.21 requires spacy==3.0.6, but you have spacy 3.1.2 which is incompatible.\n",
      "kraken 3.0.6 requires torch<1.11,>=1.5.0, but you have torch 1.11.0+cu113 which is incompatible.\n",
      "en-core-web-lg 3.0.0 requires spacy<3.1.0,>=3.0.0, but you have spacy 3.1.2 which is incompatible.\n",
      "WARNING: Ignoring invalid distribution -ip (d:\\anaconda\\lib\\site-packages)\n",
      "WARNING: Ignoring invalid distribution -ip (d:\\anaconda\\lib\\site-packages)\n",
      "WARNING: Ignoring invalid distribution -ip (d:\\anaconda\\lib\\site-packages)\n"
     ]
    },
    {
     "name": "stdout",
     "output_type": "stream",
     "text": [
      "Requirement already satisfied: idna<4,>=2.5 in d:\\anaconda\\lib\\site-packages (from requests>=2.25.0->spotipy) (2.10)\n",
      "Collecting charset-normalizer<3,>=2\n",
      "  Using cached charset_normalizer-2.1.0-py3-none-any.whl (39 kB)\n",
      "Requirement already satisfied: certifi>=2017.4.17 in d:\\anaconda\\lib\\site-packages (from requests>=2.25.0->spotipy) (2020.6.20)\n",
      "Requirement already satisfied: wrapt<2,>=1.10 in d:\\anaconda\\lib\\site-packages (from deprecated>=1.2.3->redis>=3.5.3->spotipy) (1.11.2)\n",
      "Requirement already satisfied: pyparsing>=2.0.2 in d:\\anaconda\\lib\\site-packages (from packaging>=20.4->redis>=3.5.3->spotipy) (2.4.7)\n",
      "Installing collected packages: urllib3, deprecated, charset-normalizer, async-timeout, requests, redis, spotipy\n",
      "  Attempting uninstall: urllib3\n",
      "    Found existing installation: urllib3 1.25.11\n",
      "    Uninstalling urllib3-1.25.11:\n",
      "      Successfully uninstalled urllib3-1.25.11\n",
      "  Attempting uninstall: requests\n",
      "    Found existing installation: requests 2.24.0\n",
      "    Uninstalling requests-2.24.0:\n",
      "      Successfully uninstalled requests-2.24.0\n",
      "Successfully installed async-timeout-4.0.2 charset-normalizer-2.1.0 deprecated-1.2.13 redis-4.3.4 requests-2.28.1 spotipy-2.20.0 urllib3-1.26.11\n",
      "\n",
      "[notice] A new release of pip available: 22.1.2 -> 22.2.1\n",
      "[notice] To update, run: python.exe -m pip install --upgrade pip\n"
     ]
    }
   ],
   "source": [
    "!pip install spotipy"
   ]
  },
  {
   "cell_type": "code",
   "execution_count": null,
   "metadata": {},
   "outputs": [],
   "source": []
  }
 ],
 "metadata": {
  "kernelspec": {
   "display_name": "Python 3",
   "language": "python",
   "name": "python3"
  },
  "language_info": {
   "codemirror_mode": {
    "name": "ipython",
    "version": 3
   },
   "file_extension": ".py",
   "mimetype": "text/x-python",
   "name": "python",
   "nbconvert_exporter": "python",
   "pygments_lexer": "ipython3",
   "version": "3.8.5"
  }
 },
 "nbformat": 4,
 "nbformat_minor": 4
}
